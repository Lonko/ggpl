{
 "cells": [
  {
   "cell_type": "markdown",
   "metadata": {},
   "source": [
    "# Workshop 03: Leonardo's centralized church"
   ]
  },
  {
   "cell_type": "markdown",
   "metadata": {},
   "source": [
    "## Table of contents\n",
    "1. [Modelli originali](#p1)\n",
    "2. [Codice](#p2)\n",
    "    1. [Funzioni e variabili di supporto](#sp1)\n",
    "    2. [Guglia principale](#sp2)\n",
    "    3. [Guglia secondaria](#sp3)\n",
    "    4. [Edificio principale](#sp4)\n",
    "    5. [Strutture esterne](#sp5)\n",
    "    6. [Chiesa completa](#sp6)\n",
    "\n",
    "\n",
    "## Church's original model <a name=\"p1\"></a>\n",
    "![img1](imgs/church.jpg)\n",
    "![img2](imgs/nuvoli.jpg)"
   ]
  },
  {
   "cell_type": "markdown",
   "metadata": {},
   "source": [
    "## Codice <a name=\"p2\"></a>"
   ]
  },
  {
   "cell_type": "code",
   "execution_count": 1,
   "metadata": {
    "collapsed": false,
    "scrolled": true
   },
   "outputs": [
    {
     "name": "stdout",
     "output_type": "stream",
     "text": [
      "Evaluating fenvs.py..\n",
      "...fenvs.py imported in 0.005513 seconds\n"
     ]
    }
   ],
   "source": [
    "from larlib import *"
   ]
  },
  {
   "cell_type": "markdown",
   "metadata": {},
   "source": [
    "### Funzioni e variabili di supporto <a name=\"sp1\"></a>\n",
    " - I colori utilizzati per i vari componenti della struttura: beige, carminio ed avorio.\n",
    " - halfSphere è la funzione utilizzata per generare metà di una sfera.\n",
    " - arc genera un arco dati raggio, larghezza e spessore.\n",
    " - arcs genera 2 coppie di archi, a distanza angolare di PI/2; i due archi appartenenti alla coppia sono posti ad una distanza angolare data dal parametro in input.\n",
    " - grassFloor genera un terreno d'erba; le dimensioni sono date in input"
   ]
  },
  {
   "cell_type": "code",
   "execution_count": 2,
   "metadata": {
    "collapsed": false
   },
   "outputs": [
    {
     "data": {
      "text/plain": [
       "<pyplasm.xgepy.Hpc; proxy of <Swig Object of type 'std::shared_ptr< Hpc > *' at 0x7f25651004b0> >"
      ]
     },
     "execution_count": 2,
     "metadata": {},
     "output_type": "execute_result"
    }
   ],
   "source": [
    "BEIGE = Color4f([.77, .72, .51, 1.])\n",
    "IVORY = Color4f([1., 1., .94, 1.])\n",
    "CARMINE = Color4f([.59, 0, 0.1, 1.])\n",
    "\n",
    "def halfSphere (radius):\n",
    "    '''\n",
    "    generates the model of the upper half of a sphere\n",
    "    @param: radius\n",
    "    '''\n",
    "    def GSPHERE0 (subds):\n",
    "        N , M = subds\n",
    "        domain = Hpc(Grid([N*[PI/N],M*[PI/M]]))\n",
    "        domain = MAT([[1,0,0,0],[-PI*2,1,0,0],[-PI,0,1,0],[0,0,0,1]])(domain)\n",
    "        fx  = lambda p: radius * math.cos(p[0]) * math.sin  (p[1])\n",
    "        fy  = lambda p: radius * math.cos(p[0]) * math.cos (p[1])\n",
    "        fz  = lambda p: radius * math.sin(p[0])\n",
    "        ret=  GMAP([fx, fy, fz])(domain)\n",
    "        return R([1,2])(PI)(ret)\n",
    "    return GSPHERE0\n",
    "\n",
    "def arc(radius, width, border):\n",
    "    '''\n",
    "    generates model of an arc of given radius, width and border\n",
    "    @param: radius\n",
    "    @param: width\n",
    "    @param: border\n",
    "    '''\n",
    "    cylinder = CYLINDER([radius+border,width])(200)\n",
    "    voidCylinder = CYLINDER([radius,width])(200)\n",
    "    cuboidY = radius+border\n",
    "    cuboidX = 2 * cuboidY\n",
    "    voidCuboid = T([1])([-cuboidX / 2])(CUBOID([cuboidX, cuboidY, width]))\n",
    "    arc = COLOR(BEIGE)(STRUCT([DIFF([cylinder, voidCylinder, voidCuboid])]))\n",
    "    return R([2,3])(-PI / 2)(arc)\n",
    "    \n",
    "def arcs(r, w, b, angle):\n",
    "    '''\n",
    "    generates a composition of arcs\n",
    "    @param: radius\n",
    "    @param: width\n",
    "    @param: border\n",
    "    @param: angle between arc couple\n",
    "    '''\n",
    "    a = arc(r, w, b)\n",
    "    arcCouple = STRUCT([a, R([1,2])(angle)(a)])\n",
    "    return STRUCT([arcCouple, R([1,2])(PI / 2)(arcCouple)])\n",
    "\n",
    "def grassFloor(x, y):\n",
    "    '''\n",
    "    generates model for the floor using grass texture\n",
    "    @param: width\n",
    "    @param: depth\n",
    "    '''\n",
    "    texture = TEXTURE([\"imgs/GrassGreenTexture0003.jpg\", TRUE, TRUE, 0, 0, 0, 5.0, 5.0])\n",
    "    return texture(CUBOID([x, y]))\n",
    "\n",
    "VIEW(arc(5, .5, .2))"
   ]
  },
  {
   "cell_type": "markdown",
   "metadata": {},
   "source": [
    "![arc](imgs/arc.png)"
   ]
  },
  {
   "cell_type": "markdown",
   "metadata": {},
   "source": [
    "### Funzione per la generazione della guglia principale <a name=\"sp2\"></a>\n",
    " - La guglia principale è la più grande della struttura ed è posta centralmente sopra l'edificio principale.\n",
    " - È caratterizzata da una punta più elaborata ed una disposizione degli archi leggermente diversa (gli archi all'interno di una coppia sono più vicini rispetto alla distanza tra le due coppie); anche lo strato tra il pilastro e la cupola è diverso da quello delle altre guglie."
   ]
  },
  {
   "cell_type": "code",
   "execution_count": 6,
   "metadata": {
    "collapsed": false,
    "scrolled": true
   },
   "outputs": [
    {
     "name": "stdout",
     "output_type": "stream",
     "text": [
      "Child 3\n"
     ]
    },
    {
     "data": {
      "text/plain": [
       "<pyplasm.xgepy.Hpc; proxy of <Swig Object of type 'std::shared_ptr< Hpc > *' at 0x7f2565100f60> >"
      ]
     },
     "execution_count": 6,
     "metadata": {},
     "output_type": "execute_result"
    }
   ],
   "source": [
    "def mainDome(radius):\n",
    "    '''\n",
    "    generates the model for the main dome of the church\n",
    "    @param: radius\n",
    "    '''\n",
    "        \n",
    "    def point(r, h):\n",
    "        hFraction = .05 * h;\n",
    "        base = CYLINDER([1.8 * r, 2 * hFraction])(30)\n",
    "        lowerBlock = TOP([base, CUBOID([1.8 * r, 1.8 * r, hFraction])])\n",
    "        middleBlock = TOP([lowerBlock, CUBOID([1.5 * r, 1.5 * r, 6. * hFraction])])\n",
    "        block = TOP([middleBlock, CUBOID([1.8 * r, 1.8 * r, hFraction])])\n",
    "        base2 = CYLINDER([.7 * r, 2. * hFraction])(30)\n",
    "        top = TOP([base2, CONE([.7 * r, 7. * hFraction])(30)])\n",
    "        return TOP([block, top])\n",
    "        \n",
    "    sphereLevel = .94 * radius\n",
    "    layer1 = COLOR(BEIGE)(CYLINDER([1.05 * radius, .1 * radius])(100))\n",
    "    layer2 = COLOR(IVORY)(CYLINDER([1.03 * radius, .04 * radius])(100))\n",
    "    \n",
    "    #main components\n",
    "    base = COLOR(BEIGE)(CYLINDER([1.05 * radius, .2 * radius])(100))\n",
    "    sphere = COLOR(CARMINE)(JOIN(halfSphere(radius)([30,30])))\n",
    "    pillar = COLOR(IVORY)(CYLINDER([radius, radius / 2])(100))\n",
    "    middleLayer = TOP([ TOP([layer1, layer2]), layer1 ])\n",
    "    point = COLOR(BEIGE)(point(.1 * radius, .6 * radius))\n",
    "    arcsComposition = arcs(radius, .1 * radius, .05 * radius, PI / 5)\n",
    "    \n",
    "    #composition\n",
    "    dome = TOP([base, pillar])\n",
    "    dome = TOP([dome, middleLayer])\n",
    "    dome = TOP([dome, sphere])\n",
    "    dome = STRUCT([dome, T([3])([sphereLevel])(arcsComposition), T([3])([sphereLevel+radius])(point)])\n",
    "    return dome\n",
    "\n",
    "\n",
    "VIEW(mainDome(10))"
   ]
  },
  {
   "cell_type": "markdown",
   "metadata": {},
   "source": [
    "![dome](imgs/dome.png)"
   ]
  },
  {
   "cell_type": "markdown",
   "metadata": {},
   "source": [
    "### Funzione per la generazione delle guglie secondarie <a name=\"sp3\"></a>\n",
    " - Questa funzione viene utilizzata sia per generare le guglie più piccole nella parte superiore dell'edificio, sia per generare i pilastri con cupola delle strutture limitrofe all'edificio principale.\n",
    " - La punta non è elaborata come quella della guglia principale; gli archi sono disposti tutti con uguale distanza angolare."
   ]
  },
  {
   "cell_type": "code",
   "execution_count": 41,
   "metadata": {
    "collapsed": false,
    "scrolled": false
   },
   "outputs": [
    {
     "name": "stdout",
     "output_type": "stream",
     "text": [
      "Child 3\n"
     ]
    },
    {
     "data": {
      "text/plain": [
       "<pyplasm.xgepy.Hpc; proxy of <Swig Object of type 'std::shared_ptr< Hpc > *' at 0x7f25646a6600> >"
      ]
     },
     "execution_count": 41,
     "metadata": {},
     "output_type": "execute_result"
    }
   ],
   "source": [
    "def smallDome(radius, height):\n",
    "    '''\n",
    "    generates the model for the smaller domes\n",
    "    @param: radius\n",
    "    @param: height of the pillar element\n",
    "    '''\n",
    "    \n",
    "    def point(r, h):\n",
    "        return CONE([r, h])(30)\n",
    "    \n",
    "    arcsZ = 1.45 * radius\n",
    "    pointZ = arcsZ + 1.05 * radius\n",
    "    layer1 = CYLINDER([1.07 * radius, .05 * radius])(100)\n",
    "    layer2 = CYLINDER([1.03 * radius, .1 * radius])(100)\n",
    "    sphere = COLOR(CARMINE)(JOIN(halfSphere(radius)([30,30])))\n",
    "    pointZT = 1.35 * radius + height\n",
    "    \n",
    "    #main components\n",
    "    base = COLOR(BEIGE)(CYLINDER([1.05 * radius, .2 * radius])(100))\n",
    "    pillar = COLOR(IVORY)(CYLINDER([radius, height])(100))\n",
    "    middleLayer = COLOR(BEIGE)(TOP([layer2, layer1]))\n",
    "    arcsComposition = arcs(radius, .1 * radius, .05 * radius, PI / 4)\n",
    "    sphereArcs = ALIGN([[1, MED, MED], [2, MED, MED]])([sphere, arcsComposition])\n",
    "    point = COLOR(BEIGE)(point(.1 * radius, .2 * radius))\n",
    "    \n",
    "    #composition\n",
    "    dome = TOP([base, pillar])\n",
    "    dome = TOP([dome, middleLayer])\n",
    "    dome = TOP([dome, sphereArcs])\n",
    "    dome = STRUCT([dome, T([1,2,3])([-.07 * radius, .03 * radius, pointZT])(point)])\n",
    "    return dome\n",
    "    \n",
    "VIEW(smallDome(4,4))\n",
    "#VIEW(smallDome(3,10))"
   ]
  },
  {
   "cell_type": "markdown",
   "metadata": {},
   "source": [
    "![small_dome](imgs/smallDome.png)\n",
    "![pillar](imgs/pillar.png)"
   ]
  },
  {
   "cell_type": "markdown",
   "metadata": {},
   "source": [
    "### Funzione per la generazione dell'edificio principale <a name=\"sp4\"></a>\n",
    "Genera l'edificio principale, ma viene usata anche per generare il blocco principale delle strutture esterne."
   ]
  },
  {
   "cell_type": "code",
   "execution_count": 10,
   "metadata": {
    "collapsed": false
   },
   "outputs": [
    {
     "data": {
      "text/plain": [
       "<pyplasm.xgepy.Hpc; proxy of <Swig Object of type 'std::shared_ptr< Hpc > *' at 0x7f2565100c00> >"
      ]
     },
     "execution_count": 10,
     "metadata": {},
     "output_type": "execute_result"
    }
   ],
   "source": [
    "def mainBuilding(x, y, z):\n",
    "    '''\n",
    "    generates the model for the main building\n",
    "    @param: width\n",
    "    @param: depth\n",
    "    @param: height\n",
    "    '''\n",
    "    \n",
    "    lowerLevel = COLOR(BEIGE)(CUBOID([.97 * x, .97 * y, .13 * z]))\n",
    "    middleLevel = COLOR(IVORY)(CUBOID([.94 * x, .94 * y, .8 * z]))\n",
    "    upperLevel = COLOR(BEIGE)(CUBOID([x, y, .07 * z]))\n",
    "    \n",
    "    return TOP([ TOP([lowerLevel, middleLevel]) , upperLevel])\n",
    "\n",
    "VIEW(mainBuilding(30, 30, 20))"
   ]
  },
  {
   "cell_type": "markdown",
   "metadata": {},
   "source": [
    "### Funzione per la generazione delle strutture esterne <a name=\"sp5\"></a>\n",
    " Processo di generazione:\n",
    " \n",
    " - Attraverso la funzione mainBuilding viene generato il blocco principale.\n",
    " - Sopra il blocco principale viene posizionata una guglia.\n",
    " - Su 3 dei lati del blocco vengono posizionati dei pilastri con guglia."
   ]
  },
  {
   "cell_type": "code",
   "execution_count": 52,
   "metadata": {
    "collapsed": false,
    "scrolled": true
   },
   "outputs": [
    {
     "name": "stdout",
     "output_type": "stream",
     "text": [
      "Child 3\n",
      "Child 3\n"
     ]
    },
    {
     "data": {
      "text/plain": [
       "<pyplasm.xgepy.Hpc; proxy of <Swig Object of type 'std::shared_ptr< Hpc > *' at 0x7f2564618840> >"
      ]
     },
     "execution_count": 52,
     "metadata": {},
     "output_type": "execute_result"
    }
   ],
   "source": [
    "def externalStructure(x, y, z):\n",
    "    '''\n",
    "    generates the model for the structures surrounding the church externally\n",
    "    @param: width\n",
    "    @param: depth\n",
    "    @param: height\n",
    "    '''\n",
    "    \n",
    "    dx = x / 8.\n",
    "    dy = y / 8.\n",
    "    dz = z / 7.\n",
    "    domeZ = 2.5 * dz - 2.35 * dx\n",
    "    pillarRadius = 1.8 * dx\n",
    "    baseH = (.13 * 4.5 * dz) - (.2 * (pillarRadius))\n",
    "    pillarBase = COLOR(BEIGE)(CYLINDER([1.05 * (pillarRadius), baseH])(100))\n",
    "    pillarDome = smallDome(pillarRadius, 1.5 * dz)\n",
    "    domeBase = COLOR(BEIGE)(CUBOID([4.5 * dx, 4.5 * dy, .2 * dz]))\n",
    "    centralDome = smallDome(1.3 * dz, domeZ)\n",
    "    \n",
    "    #main components\n",
    "    centralBlock = mainBuilding(6 * dx , 6 * dy, 4 * dz)\n",
    "    dome = TOP([domeBase, centralDome])\n",
    "    pillar = TOP([ pillarBase, pillarDome ])\n",
    "    \n",
    "    #composition\n",
    "    structure = TOP([centralBlock, dome])\n",
    "    structure = STRUCT([structure,\\\n",
    "                        T([1])([3 * dx])(pillar),\\\n",
    "                        T([1,2])([3 * dx, 5.65 * dy])(pillar),\\\n",
    "                        T([1,2])([5.8 * dx, 3 * dy])(pillar)\\\n",
    "                       ])\n",
    "    return structure\n",
    "\n",
    "VIEW(externalStructure(10, 10, 15))"
   ]
  },
  {
   "cell_type": "markdown",
   "metadata": {},
   "source": [
    "![external](imgs/extStr.png)"
   ]
  },
  {
   "cell_type": "markdown",
   "metadata": {},
   "source": [
    "### Funzione per la generazione della chiesa <a name=\"sp6\"></a>"
   ]
  },
  {
   "cell_type": "code",
   "execution_count": 54,
   "metadata": {
    "collapsed": false
   },
   "outputs": [
    {
     "name": "stdout",
     "output_type": "stream",
     "text": [
      "Child 3\n",
      "Child 3\n",
      "Child 3\n",
      "Child 3\n"
     ]
    },
    {
     "data": {
      "text/plain": [
       "<pyplasm.xgepy.Hpc; proxy of <Swig Object of type 'std::shared_ptr< Hpc > *' at 0x7f2564618a50> >"
      ]
     },
     "execution_count": 54,
     "metadata": {},
     "output_type": "execute_result"
    }
   ],
   "source": [
    "def church(x, y, z):\n",
    "    '''\n",
    "    generates the model of Leonardo's centralized church\n",
    "    @param: width\n",
    "    @param: depth\n",
    "    @param: height\n",
    "    '''\n",
    "    #ratios\n",
    "    ratioX = x / 80.\n",
    "    ratioY = y / 80.\n",
    "    ratioZ = z / 40.\n",
    "    #main components\n",
    "    bigDome = mainDome(10)\n",
    "    building = mainBuilding(40, 40, 20)\n",
    "    dome = smallDome(4.5, 3.5)\n",
    "    extStr = externalStructure(20, 20, 26)\n",
    "    floor = grassFloor(100, 100)\n",
    "    \n",
    "    #composition\n",
    "    church = TOP([building, bigDome])\n",
    "    church = STRUCT([church, \\\n",
    "                     T([1,2,3])([7, 7, 20])(dome),\\\n",
    "                     T([1,2,3])([7, 32, 20])(dome),\\\n",
    "                     T([1,2,3])([32, 7, 20])(dome),\\\n",
    "                     T([1,2,3])([32, 32, 20])(dome),\\\n",
    "                    ])\n",
    "    church = STRUCT([church, \\\n",
    "                     T([1,2])([31, 12])(extStr),\\\n",
    "                     R([1,2])(PI / 2)(T([1,2])([31, -27])(extStr)),\\\n",
    "                     R([1,2])(PI)(T([1,2])([-8, -27])(extStr)),\\\n",
    "                     R([1,2])(3 * PI / 2), T([1,2])([-8, 12])(extStr),\\\n",
    "                    ])\n",
    "    church = TOP([floor, church])\n",
    "    return S([1,2,3])([ratioX, ratioY, ratioZ])(church)\n",
    "\n",
    "VIEW(church(80, 80, 40))"
   ]
  },
  {
   "cell_type": "markdown",
   "metadata": {},
   "source": [
    "![church](imgs/churchFull.png)"
   ]
  }
 ],
 "metadata": {
  "kernelspec": {
   "display_name": "Python 2",
   "language": "python",
   "name": "python2"
  },
  "language_info": {
   "codemirror_mode": {
    "name": "ipython",
    "version": 2
   },
   "file_extension": ".py",
   "mimetype": "text/x-python",
   "name": "python",
   "nbconvert_exporter": "python",
   "pygments_lexer": "ipython2",
   "version": "2.7.13"
  }
 },
 "nbformat": 4,
 "nbformat_minor": 2
}
