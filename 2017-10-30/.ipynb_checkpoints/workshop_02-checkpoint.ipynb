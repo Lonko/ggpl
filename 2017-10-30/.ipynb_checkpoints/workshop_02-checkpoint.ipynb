{
 "cells": [
  {
   "cell_type": "markdown",
   "metadata": {},
   "source": [
    "# Workshop 2: Room Forniture\n",
    "\n",
    "## Table of contents\n",
    "1. [Examples](#p1)\n",
    "2. [Bookcase](#p2)\n",
    "3. [Shelf](#p3)\n",
    "4. [Tv](#p4)\n",
    "5. [Ground shelf](#p5)\n",
    "6. [Room](#p6)\n",
    "7. [Room with forniture](#p7)\n",
    "\n",
    "## Examples <a name=\"p1\"></a>\n",
    "[Bookcase](http://www.ikea.com/it/it/catalog/products/10261129/)\n",
    "![webBookcase](http://www.ikea.com/it/it/images/products/finnby-libreria-nero__0251867_PE390714_S4.JPG)\n",
    "[shelfs + tv combination](http://www.ikea.com/it/it/catalog/products/S79190525/)\n",
    "![webShelf](http://www.ikea.com/it/it/images/products/besta-combinazione-tv-ante-a-vetro__0334638_PE527591_S4.JPG)"
   ]
  },
  {
   "cell_type": "code",
   "execution_count": 1,
   "metadata": {
    "collapsed": false
   },
   "outputs": [
    {
     "name": "stdout",
     "output_type": "stream",
     "text": [
      "Evaluating fenvs.py..\n",
      "...fenvs.py imported in 0.006139 seconds\n"
     ]
    }
   ],
   "source": [
    "from larlib import *"
   ]
  },
  {
   "cell_type": "markdown",
   "metadata": {},
   "source": [
    "## Bookcase <a name=\"p2\"></a>\n",
    "\n",
    " - Parametri: larghezza, profondità, altezza, numero di scaffali della libreria.\n",
    " - Ogni scaffale è ottenuto come la differenza tra due cubi (section e void; void è di dimensioni leggermente più piccole).\n",
    " - La base è ottenuta come la differenza tra un parallelepipedo (largo e spesso quanto gli scaffali) ed un parallelepipedo più piccolo posizionato nella parte frontale."
   ]
  },
  {
   "cell_type": "code",
   "execution_count": 148,
   "metadata": {
    "collapsed": false
   },
   "outputs": [
    {
     "data": {
      "text/plain": [
       "<pyplasm.xgepy.Hpc; proxy of <Swig Object of type 'std::shared_ptr< Hpc > *' at 0x7f5af1e11390> >"
      ]
     },
     "execution_count": 148,
     "metadata": {},
     "output_type": "execute_result"
    }
   ],
   "source": [
    "def buildBookcase(width, depth, height, nSections):\n",
    "    '''\n",
    "    Genera il modello di una libreria.\n",
    "    Parametri = (larghezza, \n",
    "                 profondità, \n",
    "                 altezza totale,\n",
    "                 numero di scaffali)\n",
    "    '''\n",
    "    \n",
    "    def base(h, w, d, b):\n",
    "        void = T([1,2])([b, d-(2*b)])(CUBOID([w-(2*b), 3*b, h-(2*b)]))\n",
    "        base = CUBOID([w, d, h])\n",
    "        return DIFFERENCE([base, void])\n",
    "    \n",
    "    def section(d, w, h, b):\n",
    "        void = T([1,2,3])([b,2*b,b])(CUBOID([w-(2*b), d-(2*b), h-(2*b)]))\n",
    "        section = CUBOID([w, d, h])\n",
    "        return DIFFERENCE([section, void])\n",
    "        \n",
    "    bHeight = height*0.1/1.8\n",
    "    border = 0.01\n",
    "    sHeight = (height-bHeight)/nSections\n",
    "    section = section(depth, width, sHeight, border)\n",
    "    base = base(bHeight, width, depth, border)\n",
    "    sections = STRUCT(map(lambda i: T([3])([sHeight*(i)])(section), range(0,nSections)))\n",
    "    bookcase = TOP([base, sections])\n",
    "    return STRUCT([COLOR([0.2,0.2,0.2])(bookcase)])\n",
    "\n",
    "VIEW(buildBookcase(0.6, 0.24, 1.8, 5)) #con le misure dell'originale\n",
    "VIEW(buildBookcase(0.7, 0.5, 1.0, 3))\n",
    "VIEW(buildBookcase(0.5, 0.3, 2.0, 4))"
   ]
  },
  {
   "cell_type": "markdown",
   "metadata": {},
   "source": [
    " 1 | 2  | 3\n",
    "- | - | -\n",
    "![lib1](imgs/libreria1.png) | ![lib2](imgs/libreria2.png) | ![lib3](imgs/libreria3.png)"
   ]
  },
  {
   "cell_type": "markdown",
   "metadata": {},
   "source": [
    "## Shelf <a name=\"p3\"></a>\n",
    "\n",
    " - Parametri: larghezza, profondità, altezza, numero di scomparti.\n",
    " - Ogni scomparto è ottenuto come la differenza tra due cubi (section e void; void è di dimensioni leggermente più piccole).\n",
    " - Ogni scomparto è dotato di un'anta trasparente"
   ]
  },
  {
   "cell_type": "code",
   "execution_count": 147,
   "metadata": {
    "collapsed": false
   },
   "outputs": [
    {
     "data": {
      "text/plain": [
       "<pyplasm.xgepy.Hpc; proxy of <Swig Object of type 'std::shared_ptr< Hpc > *' at 0x7f5af1e11690> >"
      ]
     },
     "execution_count": 147,
     "metadata": {},
     "output_type": "execute_result"
    }
   ],
   "source": [
    "def buildShelf(width, depth, height, nSections):\n",
    "    '''\n",
    "    Genera il modello di una mensola con ante.\n",
    "    Parametri = (laghezza, \n",
    "                 prodondità,\n",
    "                 altezza,                    \n",
    "                 numero di scomparti)\n",
    "    '''\n",
    "    \n",
    "    def section(w, d, h, b):\n",
    "        \n",
    "        def shutter(w, d, h):\n",
    "            materialArgs = [0.0, 1.0, 1.0, 1.0,    0.0, 0.0, 1.0, 0.05,    0, 0, 0, 1.0,    0.0, 0.0, 0.0, 1.0,   100.0]\n",
    "            return MATERIAL(materialArgs)(CUBOID([w, d, h]))\n",
    "        \n",
    "        void = T([1,2,3])([b,2*b,b])(CUBOID([w-(2*b), d-(2*b), h-(2*b)]))\n",
    "        section = DIFFERENCE([CUBOID([w, d, h]), void])\n",
    "        shutter = shutter(w-(2*b), 0.01, h-(2*b))\n",
    "        return STRUCT([section, T([1,2,3])([b,d-0.01,b])(shutter)])\n",
    "    \n",
    "    border = 0.05\n",
    "    section = section(width/nSections, depth, height, border)\n",
    "    shelf = STRUCT(map(lambda i: T([1])([(width/nSections)*(i)])(section), range(0,nSections)))\n",
    "    return STRUCT([COLOR([0.2,0.2,0.2])(shelf)])\n",
    "\n",
    "VIEW(buildShelf(1.8, 0.2, 0.45, 3)) #con le misure dell'originale\n",
    "VIEW(buildShelf(1.6, 0.4, 0.6, 4))             "
   ]
  },
  {
   "cell_type": "markdown",
   "metadata": {},
   "source": [
    "![shelf1](imgs/shelf1.png)\n",
    "![shelf2](imgs/shelf2.png)"
   ]
  },
  {
   "cell_type": "markdown",
   "metadata": {},
   "source": [
    "## Tv<a name=\"p4\"></a>\n",
    " - Parametri: larghezza del monitor, larghezza della base, profondità della base, altezza.\n",
    " - La tv è composta da due pezzi: la base ed il monitor."
   ]
  },
  {
   "cell_type": "code",
   "execution_count": 146,
   "metadata": {
    "collapsed": false
   },
   "outputs": [
    {
     "data": {
      "text/plain": [
       "<pyplasm.xgepy.Hpc; proxy of <Swig Object of type 'std::shared_ptr< Hpc > *' at 0x7f5af1edc9c0> >"
      ]
     },
     "execution_count": 146,
     "metadata": {},
     "output_type": "execute_result"
    }
   ],
   "source": [
    "def buildTv(monitorWidth, baseWidth, depth, height):\n",
    "    '''\n",
    "    Genera il modello di una tv a schermo piatto.\n",
    "    Parametri = (larghezza monitor,\n",
    "                 larghezza base,\n",
    "                 profondità base,\n",
    "                 altezza monitor)\n",
    "    '''\n",
    "    \n",
    "    def monitor(w, d, h):\n",
    "        block = CUBOID([w,d,h])\n",
    "        void = T([1,2,3])([0.05,d-0.01,0.05])(CUBOID([w-0.1, 0.01, h-0.1]))\n",
    "        monitor = COLOR([0.1,0.1,0.1])(DIFFERENCE([block, void]))\n",
    "        screen = COLOR([0.2,0.2,0.2])(CUBOID([w-0.1, 0.01, h-0.1]))\n",
    "        return STRUCT([monitor, T([1,2,3])([0.05,d-0.01,0.05])(screen)])\n",
    "     \n",
    "    monitor = monitor(monitorWidth, 0.04, height)\n",
    "    plane = CUBOID([baseWidth, depth, 0.02])\n",
    "    support = CYLINDER([0.02,0.1])(100)\n",
    "    base = COLOR([0.1,0.1,0.1])(TOP([plane, support]))\n",
    "    return STRUCT([TOP([base, monitor])])\n",
    "\n",
    "VIEW(buildTv(1.0,0.6,0.4,0.6)) # non erano specificate le dimensioni sul sito, sono quindi approssimative"
   ]
  },
  {
   "cell_type": "markdown",
   "metadata": {},
   "source": [
    "![tv](imgs/tv.png)"
   ]
  },
  {
   "cell_type": "markdown",
   "metadata": {},
   "source": [
    "## Ground Shelf <a name=\"p5\"></a>\n",
    " - Parametri: larghezza, profondità, altezza, altezza delle gambe.\n",
    " - I due scomparti laterali sono analoghi agli scomparti dello shelf. Lo scoparto centrale ha due cassetti centrali.\n",
    " - L'intero blocco si poggia su 4 gambe a base triangolare"
   ]
  },
  {
   "cell_type": "code",
   "execution_count": 145,
   "metadata": {
    "collapsed": false
   },
   "outputs": [
    {
     "data": {
      "text/plain": [
       "<pyplasm.xgepy.Hpc; proxy of <Swig Object of type 'std::shared_ptr< Hpc > *' at 0x7f5af1edc9f0> >"
      ]
     },
     "execution_count": 145,
     "metadata": {},
     "output_type": "execute_result"
    }
   ],
   "source": [
    "def buildGroundShelf(width, depth, height, legHeight):\n",
    "    '''\n",
    "    Genera il modello di un mobile con ante con sopra una tv.\n",
    "    Parametri = (larghezza, \n",
    "                 prodondità,\n",
    "                 altezza,\n",
    "                 altezza delle gambe)\n",
    "    '''\n",
    "    \n",
    "    def section(w, d, h, b):\n",
    "        \n",
    "        def shutter(w, d, h):\n",
    "            materialArgs = [0.0, 1.0, 1.0, 1.0,    0.0, 0.0, 1.0, 0.05,    0, 0, 0, 1.0,    0.0, 0.0, 0.0, 1.0,   100.0]\n",
    "            return MATERIAL(materialArgs)(CUBOID([w, d, h]))\n",
    "        \n",
    "        void = T([1,2,3])([b,2*b,b])(CUBOID([w-(2*b), d-(2*b), h-(2*b)]))\n",
    "        section = DIFFERENCE([CUBOID([w, d, h]), void])\n",
    "        shutter = shutter(w-(2*b), 0.01, h-(2*b))\n",
    "        return STRUCT([COLOR([0.2,0.2,0.2])(section), T([1,2,3])([b,d-0.01,b])(shutter)])\n",
    "    \n",
    "    def center(w, d, h):\n",
    "        center = COLOR([0.2,0.2,0.2])(CUBOID([w, d-0.02, h]))\n",
    "        drawerSec = 4*h/5\n",
    "        drawerH = 4*(h-drawerSec)/5\n",
    "        front = COLOR([0.1,0.1,0.1])(CUBOID([w, 0.02, drawerSec]))\n",
    "        drawer = COLOR([0.0,0.0,0.0])(CUBOID([w-0.1, 0.02, drawerH]))\n",
    "        return STRUCT([UP([center, front]), T([1,2,3])([0.05,d-0.02,drawerSec])(drawer)])\n",
    "    \n",
    "    def legs(w, d, h):\n",
    "        \n",
    "        def leg(x, y, z):\n",
    "            verts = [[0,0],[0,y],[x,0]]\n",
    "            cell = [[1,2,3]]\n",
    "            leg = PROD([MKPOL([verts,cell,None]), Q(z)])\n",
    "            return STRUCT([COLOR([0.2,0.2,0.2])(leg)])\n",
    "        \n",
    "        side = h/3\n",
    "        leg = leg(side, side, h)\n",
    "        return STRUCT([leg, T([1])([w])(R([1,2])(PI/2)(leg)), T([1,2])([w, d])(R([1,2])(PI)(leg)),\\\n",
    "                       T([2])([d])(R([1,2])(3*PI/2)(leg))])\n",
    "    \n",
    "    section = section(width/3, depth, height-legHeight, 0.05)\n",
    "    center = center(width/3, depth, height-legHeight)\n",
    "    block = RIGHT([section, center])\n",
    "    block = RIGHT([block, section])\n",
    "    legs = legs(width, depth, legHeight)\n",
    "    return STRUCT([TOP([legs, block])])\n",
    "\n",
    "VIEW(buildGroundShelf(1.8, 0.4, 0.45, 0.08))  #con le misure dell'originale\n",
    "VIEW(buildGroundShelf(1.0, 0.3, 0.5, 0.05))"
   ]
  },
  {
   "cell_type": "markdown",
   "metadata": {},
   "source": [
    "![gs1](imgs/groundShelf1.png)\n",
    "![gs2](imgs/groundShelf2.png)"
   ]
  },
  {
   "cell_type": "markdown",
   "metadata": {},
   "source": [
    "## Room <a name=\"p6\"></a>\n",
    "Semplice funzione di supporto che crei una stanza formata da un pavimento, soffitto, 2 muri laterali e uno di sfondo."
   ]
  },
  {
   "cell_type": "code",
   "execution_count": 159,
   "metadata": {
    "collapsed": false
   },
   "outputs": [],
   "source": [
    "def buildRoom(w, d, h):\n",
    "    texture = TEXTURE([\"imgs/gray-parquet.jpg\", TRUE, TRUE, 0, 0, 0, 2.0, 2.0])\n",
    "    floor = CUBOID([w,d])\n",
    "    sideWall = CUBOID([0.0,d,h])\n",
    "    backWall = CUBOID([w,0.0,h])\n",
    "    walls = RIGHT([sideWall, backWall])\n",
    "    materialArgs = [0.7, 0.7, 0.7, 5.0,    0.0, 0.0, 1.0, 1.0,    0, 0, 0, 1.0,    0.0, 0.0, 0.0, 1.0,   100.0]\n",
    "    walls = MATERIAL(materialArgs)(RIGHT([walls, sideWall]))    \n",
    "    room = TOP([texture(floor), walls])\n",
    "    room = (TOP([room, MATERIAL(materialArgs)(floor)]))\n",
    "    skel = OFFSET([0.01,0.01,0.01])(SKEL_1(room))\n",
    "    return STRUCT([room, COLOR([0.3,0.3,0.3])(skel)])"
   ]
  },
  {
   "cell_type": "markdown",
   "metadata": {},
   "source": [
    "## Room with forniture <a name=\"p7\"></a>"
   ]
  },
  {
   "cell_type": "code",
   "execution_count": 160,
   "metadata": {
    "collapsed": false
   },
   "outputs": [
    {
     "data": {
      "text/plain": [
       "<pyplasm.xgepy.Hpc; proxy of <Swig Object of type 'std::shared_ptr< Hpc > *' at 0x7f5af1d49d20> >"
      ]
     },
     "execution_count": 160,
     "metadata": {},
     "output_type": "execute_result"
    }
   ],
   "source": [
    "def ggpl_my_room():\n",
    "    '''\n",
    "    Genera il modello di una camera con dell'arredamento all'interno\n",
    "    '''\n",
    "    room = buildRoom(5.0, 3.0, 3.0)\n",
    "    groundShelf = buildGroundShelf(1.8, 0.4, 0.45, 0.08)\n",
    "    tv = buildTv(1.0,0.5,0.38,0.6)\n",
    "    shelf = buildShelf(1.8, 0.2, 0.45, 3)\n",
    "    bookcase = buildBookcase(0.6, 0.24, 1.8, 5)\n",
    "    shelfWithTv = TOP([groundShelf, tv])\n",
    "    forniture = STRUCT([shelfWithTv, T([3])([1.3])(shelf)])\n",
    "    forniture = STRUCT([bookcase, T([1])([0.75])(forniture), T([1])([2.7])(bookcase)])\n",
    "    return STRUCT([room, T([1])([1.0])(forniture)])\n",
    "\n",
    "VIEW(ggpl_my_room())"
   ]
  },
  {
   "cell_type": "markdown",
   "metadata": {},
   "source": [
    "![room](imgs/fullRoom.png)"
   ]
  }
 ],
 "metadata": {
  "kernelspec": {
   "display_name": "Python 2",
   "language": "python",
   "name": "python2"
  },
  "language_info": {
   "codemirror_mode": {
    "name": "ipython",
    "version": 2
   },
   "file_extension": ".py",
   "mimetype": "text/x-python",
   "name": "python",
   "nbconvert_exporter": "python",
   "pygments_lexer": "ipython2",
   "version": "2.7.13"
  }
 },
 "nbformat": 4,
 "nbformat_minor": 2
}
