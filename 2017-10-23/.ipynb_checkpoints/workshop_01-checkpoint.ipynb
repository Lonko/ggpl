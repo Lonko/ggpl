{
 "cells": [
  {
   "cell_type": "markdown",
   "metadata": {},
   "source": [
    "# Workshop 1"
   ]
  },
  {
   "cell_type": "markdown",
   "metadata": {},
   "source": [
    "### Script 1.5.2\n",
    "Genera un modello di tavolo (attraverso due definizioni equivalenti ed alternative)."
   ]
  },
  {
   "cell_type": "code",
   "execution_count": 2,
   "metadata": {
    "collapsed": false
   },
   "outputs": [
    {
     "name": "stdout",
     "output_type": "stream",
     "text": [
      "Evaluating fenvs.py..\n",
      "...fenvs.py imported in 0.00576 seconds\n"
     ]
    }
   ],
   "source": [
    "from larlib import *"
   ]
  },
  {
   "cell_type": "code",
   "execution_count": 19,
   "metadata": {
    "collapsed": false
   },
   "outputs": [
    {
     "data": {
      "text/plain": [
       "<pyplasm.xgepy.Hpc; proxy of <Swig Object of type 'std::shared_ptr< Hpc > *' at 0x7f1ba05a76f0> >"
      ]
     },
     "execution_count": 19,
     "metadata": {},
     "output_type": "execute_result"
    }
   ],
   "source": [
    "def leg():\n",
    "    '''genera un modello di gamba di tavolo'''\n",
    "    return CUBOID([0.1,0.1,0.7])\n",
    "\n",
    "def plane():\n",
    "    '''genera un modello di piano di un tavolo'''\n",
    "    return CUBOID([1,1,0.2])\n",
    "\n",
    "def table():\n",
    "    '''genera un modello di tavolo'''\n",
    "    return  STRUCT([leg(), T([1])([0.9]), leg(), T([2])([0.9]), leg(), T([1])([-0.9]),\\\n",
    "                    leg(),T([2,3])([-0.9,0.7]), plane()]);\n",
    "\n",
    "def table1():\n",
    "    '''metodo alternativo che genera un modello di tavolo'''\n",
    "    return STRUCT([leg(), T([1])([0.9])(leg()), T([1,2])([0.9,0.9])(leg()), T([2])([0.9])(leg()),\\\n",
    "                   T([3])([0.7])(plane())]);\n",
    "                       \n",
    "VIEW(table())\n",
    "VIEW(table1())"
   ]
  },
  {
   "cell_type": "markdown",
   "metadata": {},
   "source": [
    "![table](imgs/table.png)"
   ]
  },
  {
   "cell_type": "markdown",
   "metadata": {},
   "source": [
    "### Script 1.5.5\n",
    "Funzione di supporto: applica la funzione QUOTE sempre su una sequenza."
   ]
  },
  {
   "cell_type": "code",
   "execution_count": 20,
   "metadata": {
    "collapsed": false
   },
   "outputs": [
    {
     "data": {
      "text/plain": [
       "<pyplasm.xgepy.Hpc; proxy of <Swig Object of type 'std::shared_ptr< Hpc > *' at 0x7f1ba05a7f00> >"
      ]
     },
     "execution_count": 20,
     "metadata": {},
     "output_type": "execute_result"
    }
   ],
   "source": [
    "def q(x):\n",
    "    if isinstance( x, (list, tuple) ):\n",
    "        return QUOTE(x)\n",
    "    else:\n",
    "        seqx = [x]\n",
    "        return QUOTE(seqx)\n",
    "\n",
    "q([5, -2, 5, -2, 5])\n",
    "#Q([5, -2, 5, -2, 5])"
   ]
  },
  {
   "cell_type": "markdown",
   "metadata": {},
   "source": [
    "### Script 1.5.6\n",
    "Funzione che genera una facciata"
   ]
  },
  {
   "cell_type": "code",
   "execution_count": 49,
   "metadata": {
    "collapsed": false
   },
   "outputs": [
    {
     "data": {
      "text/plain": [
       "<pyplasm.xgepy.Hpc; proxy of <Swig Object of type 'std::shared_ptr< Hpc > *' at 0x7f1ba05b0090> >"
      ]
     },
     "execution_count": 49,
     "metadata": {},
     "output_type": "execute_result"
    }
   ],
   "source": [
    "def facade(n, m):\n",
    "    '''funzione per la generazione di una facciata'''\n",
    "    xRithm = [5, -2, -5, -2] * n\n",
    "    xRithm.append(5)\n",
    "    yRithm = [7, -5, -2] * m\n",
    "    yRithm.append(7)\n",
    "    xVoid = map(lambda x: -x, xRithm)\n",
    "    yVoid = map(lambda y: -y, yRithm)\n",
    "    arg1 = PROD([q(xRithm),q(yRithm)])\n",
    "    arg2 = PROD([q(xVoid),q(yRithm)])\n",
    "    arg3 = PROD([q(xRithm),q(yVoid)])\n",
    "    arg4 = SKEL_1(PROD([q(xVoid),q(yVoid)]))\n",
    "    return STRUCT([arg1, arg2, arg3, arg4])\n",
    "\n",
    "VIEW(facade(6,4))"
   ]
  },
  {
   "cell_type": "markdown",
   "metadata": {},
   "source": [
    "![facade](imgs/facade.png)"
   ]
  }
 ],
 "metadata": {
  "kernelspec": {
   "display_name": "Python 2",
   "language": "python",
   "name": "python2"
  },
  "language_info": {
   "codemirror_mode": {
    "name": "ipython",
    "version": 2
   },
   "file_extension": ".py",
   "mimetype": "text/x-python",
   "name": "python",
   "nbconvert_exporter": "python",
   "pygments_lexer": "ipython2",
   "version": "2.7.13"
  }
 },
 "nbformat": 4,
 "nbformat_minor": 2
}
