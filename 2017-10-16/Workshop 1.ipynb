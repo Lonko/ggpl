{
 "cells": [
  {
   "cell_type": "markdown",
   "metadata": {},
   "source": [
    "# Workshop 1 (2017-10-16)"
   ]
  },
  {
   "cell_type": "markdown",
   "metadata": {},
   "source": [
    "## Table of contents\n",
    "1. [Esercizi per il tutorial Numpy](#p1)\n",
    "    1. [Array Creation](#sp1)\n",
    "    2. [Basic Operation](#sp2)\n",
    "    3. [Shape Manipulation](#sp3)\n",
    "    4. [Copies and Views](#sp4)\n",
    "2. [Esercizi slide](#p2)\n",
    "    1. [Assignment 1](#sp5)\n",
    "    2. [Assignment 2](#sp6)\n",
    "3. [Esempi di utilizzo di Larlib](#p3)\n",
    "    1. [Esempio 1](#sp7)\n",
    "    2. [Esempio 2](#sp8)\n",
    "    3. [Esempio 3](#sp9)\n",
    "    4. [Esempio 4](#sp10)\n",
    "    5. [Esempio 5](#sp11)"
   ]
  },
  {
   "cell_type": "markdown",
   "metadata": {},
   "source": [
    "## Tutorial Numpy <a name=\"p1\"></a>\n",
    "\n"
   ]
  },
  {
   "cell_type": "markdown",
   "metadata": {},
   "source": [
    "### Array Creation <a name=\"sp1\"></a>\n",
    "arange(start, end, stepSize) -> restituisce un array con elementi che vanno da \"start\" a \"end\", ognuno incrementato di \"stepSize\" rispetto al precedente\n",
    "\n",
    "Va bene sia per int che float."
   ]
  },
  {
   "cell_type": "code",
   "execution_count": 1,
   "metadata": {
    "collapsed": false
   },
   "outputs": [
    {
     "data": {
      "text/plain": [
       "array([ 0,  5, 10, 15])"
      ]
     },
     "metadata": {},
     "output_type": "display_data"
    },
    {
     "data": {
      "text/plain": [
       "array([ 0. ,  0.4,  0.8,  1.2,  1.6,  2. ,  2.4,  2.8,  3.2,  3.6,  4. ,\n",
       "        4.4,  4.8])"
      ]
     },
     "metadata": {},
     "output_type": "display_data"
    }
   ],
   "source": [
    "from IPython.display import display\n",
    "import numpy as np \n",
    "\n",
    "display(np.arange(0, 20, 5))\n",
    "display(np.arange(0., 5., 0.4))"
   ]
  },
  {
   "cell_type": "markdown",
   "metadata": {},
   "source": [
    "linspace(start, end, nResult) -> simile ad arange, ma il terzo parametro indica il numero di elementi nell'array in output; quindi stepSize è $(end-start)/nResult$"
   ]
  },
  {
   "cell_type": "code",
   "execution_count": 2,
   "metadata": {
    "collapsed": false
   },
   "outputs": [
    {
     "data": {
      "text/plain": [
       "array([ 0.  ,  0.25,  0.5 ,  0.75,  1.  ,  1.25,  1.5 ,  1.75,  2.  ])"
      ]
     },
     "metadata": {},
     "output_type": "display_data"
    }
   ],
   "source": [
    "display(np.linspace(0, 2, 9))"
   ]
  },
  {
   "cell_type": "markdown",
   "metadata": {},
   "source": [
    "### Basic Operations <a name=\"sp2\"></a>\n",
    "La maggior parte delle operazioni agiscono sugli elementi degli array/matrici, inclusa la moltiplicazione. Per calcolare il prodotto cartesiano bisogna quindi usare l'operatore dot o creare degli oggetti np.matrix (su cui effettuare una normale moltiplicazione)."
   ]
  },
  {
   "cell_type": "code",
   "execution_count": 3,
   "metadata": {
    "collapsed": false
   },
   "outputs": [
    {
     "data": {
      "text/plain": [
       "array([[2, 0],\n",
       "       [0, 4]])"
      ]
     },
     "metadata": {},
     "output_type": "display_data"
    },
    {
     "data": {
      "text/plain": [
       "array([[5, 4],\n",
       "       [3, 4]])"
      ]
     },
     "metadata": {},
     "output_type": "display_data"
    },
    {
     "data": {
      "text/plain": [
       "matrix([[5, 4],\n",
       "        [3, 4]])"
      ]
     },
     "metadata": {},
     "output_type": "display_data"
    }
   ],
   "source": [
    "A = np.array([[1,1], [0,1]])\n",
    "B = np.array([[2,0], [3,4]])\n",
    "display(A * B)        #normal product\n",
    "display(np.dot(A,B))  #cartesian product with dot operator\n",
    "display(np.matrix(A)*np.matrix(B)) #cartesian product with np.matrix"
   ]
  },
  {
   "cell_type": "markdown",
   "metadata": {},
   "source": [
    "Operatori come $+=$ e $*=$ modificano la matrice in input invece di crearne una nuova in output."
   ]
  },
  {
   "cell_type": "code",
   "execution_count": 4,
   "metadata": {
    "collapsed": false
   },
   "outputs": [
    {
     "data": {
      "text/plain": [
       "matrix([[3, 3],\n",
       "        [2, 3]])"
      ]
     },
     "execution_count": 4,
     "metadata": {},
     "output_type": "execute_result"
    }
   ],
   "source": [
    "matrix = np.matrix(A)\n",
    "matrix += 2\n",
    "matrix"
   ]
  },
  {
   "cell_type": "markdown",
   "metadata": {},
   "source": [
    "La classe ndarray include anche operazioni applicabili a tutti gli elementi dell'array. Nel caso di matrici, si può indicare la dimendione sulla quale si vuole agire."
   ]
  },
  {
   "cell_type": "code",
   "execution_count": 5,
   "metadata": {
    "collapsed": false
   },
   "outputs": [
    {
     "data": {
      "text/plain": [
       "array([[ 0.56384035,  0.32929477,  0.89876146],\n",
       "       [ 0.18773655,  0.58310892,  0.65435841]])"
      ]
     },
     "metadata": {},
     "output_type": "display_data"
    },
    {
     "data": {
      "text/plain": [
       "0.89876145584273459"
      ]
     },
     "metadata": {},
     "output_type": "display_data"
    },
    {
     "data": {
      "text/plain": [
       "array([ 0.56384035,  0.58310892,  0.89876146])"
      ]
     },
     "metadata": {},
     "output_type": "display_data"
    },
    {
     "data": {
      "text/plain": [
       "array([ 0.89876146,  0.65435841])"
      ]
     },
     "metadata": {},
     "output_type": "display_data"
    }
   ],
   "source": [
    "a = np.random.random((2,3))\n",
    "display(a)\n",
    "display(a.max())        #max of all elements\n",
    "display(a.max(axis=0))  #max of all columns\n",
    "display(a.max(axis=1))  #max of all rows"
   ]
  },
  {
   "cell_type": "markdown",
   "metadata": {},
   "source": [
    "Si possono iterare gli array come delle liste. Nel caso di matrici si possono usare due indici separati da virgola."
   ]
  },
  {
   "cell_type": "code",
   "execution_count": 6,
   "metadata": {
    "collapsed": false
   },
   "outputs": [
    {
     "data": {
      "text/plain": [
       "array([  0,   1,   8,  27,  64, 125, 216, 343, 512, 729])"
      ]
     },
     "metadata": {},
     "output_type": "display_data"
    },
    {
     "data": {
      "text/plain": [
       "array([-1000,     1, -1000,    27, -1000,   125,   216,   343,   512,   729])"
      ]
     },
     "metadata": {},
     "output_type": "display_data"
    },
    {
     "data": {
      "text/plain": [
       "array([[ 0,  1,  2,  3,  4],\n",
       "       [ 5,  6,  7,  8,  9],\n",
       "       [10, 11, 12, 13, 14],\n",
       "       [15, 16, 17, 18, 19]])"
      ]
     },
     "metadata": {},
     "output_type": "display_data"
    },
    {
     "data": {
      "text/plain": [
       "array([ 1,  6, 11, 16])"
      ]
     },
     "metadata": {},
     "output_type": "display_data"
    }
   ],
   "source": [
    "a = np.arange(10)**3\n",
    "b = np.arange(20).reshape(4,5)\n",
    "display(a)\n",
    "a[:6:2] = -1000\n",
    "display(a)\n",
    "display(b)\n",
    "display(b[:5, 1])  #the second element of each row"
   ]
  },
  {
   "cell_type": "markdown",
   "metadata": {},
   "source": [
    "Indipendentemente dal numero di dimensioni di una matrice, il metodo $flat$ permette di iterare sui singoli elementi."
   ]
  },
  {
   "cell_type": "code",
   "execution_count": 7,
   "metadata": {
    "collapsed": false
   },
   "outputs": [
    {
     "name": "stdout",
     "output_type": "stream",
     "text": [
      "0\n",
      "1\n",
      "2\n",
      "3\n",
      "4\n",
      "5\n",
      "6\n",
      "7\n",
      "8\n",
      "9\n",
      "10\n",
      "11\n",
      "12\n",
      "13\n",
      "14\n",
      "15\n",
      "16\n",
      "17\n",
      "18\n",
      "19\n"
     ]
    }
   ],
   "source": [
    "for elem in b.flat:\n",
    "    print elem"
   ]
  },
  {
   "cell_type": "markdown",
   "metadata": {},
   "source": [
    "### Shape Manipulation <a name=\"sp3\"></a>\n",
    "Esistono vari modi per cambiare le dimensioni di un array."
   ]
  },
  {
   "cell_type": "code",
   "execution_count": 8,
   "metadata": {
    "collapsed": false
   },
   "outputs": [
    {
     "data": {
      "text/plain": [
       "array([[ 4.,  9.,  0.,  7.],\n",
       "       [ 7.,  7.,  2.,  7.],\n",
       "       [ 9.,  4.,  0.,  8.]])"
      ]
     },
     "metadata": {},
     "output_type": "display_data"
    },
    {
     "data": {
      "text/plain": [
       "array([ 4.,  9.,  0.,  7.,  7.,  7.,  2.,  7.,  9.,  4.,  0.,  8.])"
      ]
     },
     "metadata": {},
     "output_type": "display_data"
    },
    {
     "data": {
      "text/plain": [
       "array([[ 4.,  0.,  7.,  2.,  9.,  0.],\n",
       "       [ 9.,  7.,  7.,  7.,  4.,  8.]])"
      ]
     },
     "metadata": {},
     "output_type": "display_data"
    }
   ],
   "source": [
    "a = np.floor(10*np.random.random((3,4)))\n",
    "display(a)\n",
    "display(a.ravel())   #creates a one-dimensional array from a matrix\n",
    "a.shape = (6,2)\n",
    "display(a.transpose())"
   ]
  },
  {
   "cell_type": "markdown",
   "metadata": {},
   "source": [
    "### Copies and Views <a name=\"sp4\"></a>\n",
    "Si possono copiare array (ovvero creare nuovi oggetti array a partire da uno già esistente) in due modalità:\n",
    "   1. View : oggetti differenti che fanno riferimento agli stessi elementi\n",
    "   2. Deep Copy : copie complete"
   ]
  },
  {
   "cell_type": "code",
   "execution_count": 9,
   "metadata": {
    "collapsed": false
   },
   "outputs": [
    {
     "data": {
      "text/plain": [
       "array([[ 0,  1,  2,  3],\n",
       "       [ 4,  5,  6,  7],\n",
       "       [ 8,  9, 10, 11]])"
      ]
     },
     "metadata": {},
     "output_type": "display_data"
    },
    {
     "data": {
      "text/plain": [
       "False"
      ]
     },
     "metadata": {},
     "output_type": "display_data"
    },
    {
     "data": {
      "text/plain": [
       "(3, 4)"
      ]
     },
     "metadata": {},
     "output_type": "display_data"
    },
    {
     "data": {
      "text/plain": [
       "array([[   0,    1,    2,    3],\n",
       "       [1234,    5,    6,    7],\n",
       "       [   8,    9,   10,   11]])"
      ]
     },
     "metadata": {},
     "output_type": "display_data"
    }
   ],
   "source": [
    "a = np.arange(12)\n",
    "a.shape = 3,4\n",
    "display(a)\n",
    "c = a.view()\n",
    "display(c is a)\n",
    "c.shape = 2,6                      # a's shape doesn't change\n",
    "display(a.shape)\n",
    "c[0,4] = 1234                      # a's data changes\n",
    "display(a)"
   ]
  },
  {
   "cell_type": "code",
   "execution_count": 10,
   "metadata": {
    "collapsed": false
   },
   "outputs": [
    {
     "data": {
      "text/plain": [
       "array([[   0,   10,   10,    3],\n",
       "       [1234,   10,   10,    7],\n",
       "       [   8,   10,   10,   11]])"
      ]
     },
     "metadata": {},
     "output_type": "display_data"
    }
   ],
   "source": [
    "s = a[ : , 1:3]     # spaces added for clarity; could also be written \"s = a[:,1:3]\"\n",
    "s[:] = 10           # s[:] is a view of s. Note the difference between s=10 and s[:]=10\n",
    "display(a)"
   ]
  },
  {
   "cell_type": "markdown",
   "metadata": {},
   "source": [
    "## Esercizi Slide <a name=\"p2\"></a>"
   ]
  },
  {
   "cell_type": "markdown",
   "metadata": {},
   "source": [
    "### Assignment 1 <a name=\"sp5\"></a>\n",
    "Produce (and draw) 100 random points within the unit square [0,1]$^2$:"
   ]
  },
  {
   "cell_type": "code",
   "execution_count": 1,
   "metadata": {
    "collapsed": false
   },
   "outputs": [
    {
     "name": "stdout",
     "output_type": "stream",
     "text": [
      "Evaluating fenvs.py..\n",
      "...fenvs.py imported in 0.005679 seconds\n"
     ]
    },
    {
     "data": {
      "text/plain": [
       "<pyplasm.xgepy.Hpc; proxy of <Swig Object of type 'std::shared_ptr< Hpc > *' at 0x7f0f90077c30> >"
      ]
     },
     "execution_count": 1,
     "metadata": {},
     "output_type": "execute_result"
    }
   ],
   "source": [
    "from larlib import *\n",
    "point_list = [(x,y) for (x,y) in np.random.random((100, 2))]\n",
    "VIEW(STRUCT([MK(point) for point in point_list]))"
   ]
  },
  {
   "cell_type": "markdown",
   "metadata": {},
   "source": [
    "![points](imgs/assignment1.png)"
   ]
  },
  {
   "cell_type": "markdown",
   "metadata": {},
   "source": [
    "### Assignment 2 <a name=\"sp6\"></a>\n",
    "Produce (and draw) 1000 random points within $S_1$, the $1D$ sphere (circle) of unit radius centered at the origin (0, 0):"
   ]
  },
  {
   "cell_type": "code",
   "execution_count": 12,
   "metadata": {
    "collapsed": false
   },
   "outputs": [
    {
     "data": {
      "text/plain": [
       "<pyplasm.xgepy.Hpc; proxy of <Swig Object of type 'std::shared_ptr< Hpc > *' at 0x7f289aa51ed0> >"
      ]
     },
     "execution_count": 12,
     "metadata": {},
     "output_type": "execute_result"
    }
   ],
   "source": [
    "def get_point_circle():\n",
    "    x = np.random.uniform(-1, 1)\n",
    "    # y^2+x^2=r^2 => y = sqrt(r^2-x^2)\n",
    "    limit = sqrt(1-x**2)\n",
    "    y = np.random.uniform(-limit, limit)\n",
    "    return (x,y)\n",
    "\n",
    "point_list = [get_point_circle() for i in range(1000)]\n",
    "VIEW(STRUCT([MK(point) for point in point_list]))"
   ]
  },
  {
   "cell_type": "markdown",
   "metadata": {},
   "source": [
    "![circle](imgs/assignment2.png)"
   ]
  },
  {
   "cell_type": "markdown",
   "metadata": {},
   "source": [
    "## Esempi di utilizzo di Larlib <a name=\"p3\"></a>"
   ]
  },
  {
   "cell_type": "markdown",
   "metadata": {},
   "source": [
    "### Esempio 1 <a name=\"sp7\"></a>\n",
    "\n",
    "La funzione $larSimplexFacets$ estrae (d-1)-facets non orientati da d-simplessi. Ritorna una lista di d-tuple di interi."
   ]
  },
  {
   "cell_type": "code",
   "execution_count": 14,
   "metadata": {
    "collapsed": true
   },
   "outputs": [],
   "source": [
    "def larSimplexFacets(simplices):\n",
    "    out = []\n",
    "    d = len(simplices[0])\n",
    "    for simplex in simplices:\n",
    "        out += AA(sorted)(\n",
    "            [simplex[0:k]+simplex[k+1:d] for k in range(d)])\n",
    "    out = set(AA(tuple)(out))\n",
    "    return  sorted(out)"
   ]
  },
  {
   "cell_type": "code",
   "execution_count": 15,
   "metadata": {
    "collapsed": false
   },
   "outputs": [
    {
     "data": {
      "text/plain": [
       "[(1, 2), (1, 4), (2, 3), (2, 4), (2, 5), (3, 5), (4, 5)]"
      ]
     },
     "execution_count": 15,
     "metadata": {},
     "output_type": "execute_result"
    }
   ],
   "source": [
    "simplices = [[1,2,4],[2,4,5],[2,3,5]]\n",
    "larSimplexFacets(simplices)"
   ]
  },
  {
   "cell_type": "markdown",
   "metadata": {},
   "source": [
    "### Esempio 2 <a name=\"sp8\"></a>"
   ]
  },
  {
   "cell_type": "code",
   "execution_count": 19,
   "metadata": {
    "collapsed": false
   },
   "outputs": [
    {
     "data": {
      "text/plain": [
       "<pyplasm.xgepy.Hpc; proxy of <Swig Object of type 'std::shared_ptr< Hpc > *' at 0x7f289aa511b0> >"
      ]
     },
     "execution_count": 19,
     "metadata": {},
     "output_type": "execute_result"
    }
   ],
   "source": [
    "V = [[0,0], [0,1],[2,0],[4,0],[1.5,3],[3.5,2.5]]\n",
    "FV = simplices\n",
    "model = V,FV\n",
    "VIEW(STRUCT(MKPOLS(model)))\n",
    "VIEW(SKEL_1(STRUCT(MKPOLS(model))))\n",
    "EV = larSimplexFacets(FV)\n",
    "VIEW(STRUCT(MKPOLS((V,EV))))"
   ]
  },
  {
   "cell_type": "markdown",
   "metadata": {},
   "source": [
    "![esempio2a](imgs/esempio2.png) ![esempio2b](imgs/esempio2b.png)"
   ]
  },
  {
   "cell_type": "markdown",
   "metadata": {},
   "source": [
    "### Esempio 3 <a name=\"sp9\"></a>\n",
    "La funzione $larExtrude1$ è una funzione che genera i vertici di un modello in un'estrusione multipla di un modello LAR."
   ]
  },
  {
   "cell_type": "code",
   "execution_count": 20,
   "metadata": {
    "collapsed": true
   },
   "outputs": [],
   "source": [
    "def larExtrude1(model,pattern):\n",
    "    \"\"\" Simplicial model extrusion in accord with a 1D pattern \"\"\"\n",
    "    V, FV = model\n",
    "    d, m = len(FV[0]), len(pattern)\n",
    "    coords = list(cumsum([0]+(AA(ABS)(pattern))))\n",
    "    offset, outcells, rangelimit = len(V), [], d*m\n",
    "    for cell in FV:\n",
    "            tube = [v + k*offset for k in range(m+1) for v in cell]\n",
    "            cellTube = [tube[k:k+d+1] for k in range(rangelimit)]\n",
    "            outcells += [reshape(cellTube, newshape=(m,d,d+1)).tolist()]\n",
    "    outcells = AA(CAT)(TRANS(outcells))\n",
    "    cellGroups = [group for k,group in enumerate(outcells) if pattern[k]>0]\n",
    "    outVertices = [v+[z] for z in coords for v in V]\n",
    "    outModel = outVertices, CAT(cellGroups)\n",
    "    return outModel"
   ]
  },
  {
   "cell_type": "code",
   "execution_count": 2,
   "metadata": {
    "collapsed": false
   },
   "outputs": [
    {
     "data": {
      "text/plain": [
       "<pyplasm.xgepy.Hpc; proxy of <Swig Object of type 'std::shared_ptr< Hpc > *' at 0x7f0f8f6e1ba0> >"
      ]
     },
     "execution_count": 2,
     "metadata": {},
     "output_type": "execute_result"
    }
   ],
   "source": [
    "V = [[0,0],[1,0],[2,0],[0,1],[1,1],[2,1],[0,2],[1,2],[2,2]]\n",
    "FV = [[0,1,3],[1,2,4],[2,4,5],[3,4,6],[4,6,7],[5,7,8]]\n",
    "model = larExtrude1((V,FV),4*[1,2,-3])\n",
    "VIEW(EXPLODE(1,1,1.2)(MKPOLS(model)))"
   ]
  },
  {
   "cell_type": "markdown",
   "metadata": {},
   "source": [
    "![esempio3](imgs/esempio3.png)"
   ]
  },
  {
   "cell_type": "markdown",
   "metadata": {},
   "source": [
    "### Esempio 4 <a name=\"sp10\"></a>"
   ]
  },
  {
   "cell_type": "code",
   "execution_count": 3,
   "metadata": {
    "collapsed": false
   },
   "outputs": [
    {
     "data": {
      "text/plain": [
       "<pyplasm.xgepy.Hpc; proxy of <Swig Object of type 'std::shared_ptr< Hpc > *' at 0x7f0f8e4316c0> >"
      ]
     },
     "execution_count": 3,
     "metadata": {},
     "output_type": "execute_result"
    }
   ],
   "source": [
    "model = larExtrude1( VOID, 10*[1] )\n",
    "VIEW(EXPLODE(1.5,1.5,1.5)(MKPOLS(model)))\n",
    "model = larExtrude1( model, 10*[1] )\n",
    "VIEW(EXPLODE(1.5,1.5,1.5)(MKPOLS(model)))\n",
    "model = larExtrude1( model, 10*[1] )\n",
    "VIEW(EXPLODE(1.5,1.5,1.5)(MKPOLS(model)))"
   ]
  },
  {
   "cell_type": "markdown",
   "metadata": {},
   "source": [
    "![esempio4a](imgs/esempio4.png) ![esempio4b](imgs/esempio4b.png) ![esempio4c](imgs/esempio4c.png)"
   ]
  },
  {
   "cell_type": "markdown",
   "metadata": {},
   "source": [
    "### Esempio 5 <a name=\"sp11\"></a>"
   ]
  },
  {
   "cell_type": "code",
   "execution_count": 4,
   "metadata": {
    "collapsed": false
   },
   "outputs": [
    {
     "data": {
      "text/plain": [
       "<pyplasm.xgepy.Hpc; proxy of <Swig Object of type 'std::shared_ptr< Hpc > *' at 0x7f0f8e431db0> >"
      ]
     },
     "execution_count": 4,
     "metadata": {},
     "output_type": "execute_result"
    }
   ],
   "source": [
    "model = larExtrude1( VOID, 10*[1,-1] )\n",
    "VIEW(EXPLODE(1.5,1.5,1.5)(MKPOLS(model)))\n",
    "model = larExtrude1( model, 10*[1] )\n",
    "VIEW(EXPLODE(1.5,1.5,1.5)(MKPOLS(model)))"
   ]
  },
  {
   "cell_type": "markdown",
   "metadata": {},
   "source": [
    "![esempio5a](imgs/esempio5.png) ![esempio5b](imgs/esempio5b.png)"
   ]
  }
 ],
 "metadata": {
  "kernelspec": {
   "display_name": "Python 2",
   "language": "python",
   "name": "python2"
  },
  "language_info": {
   "codemirror_mode": {
    "name": "ipython",
    "version": 2
   },
   "file_extension": ".py",
   "mimetype": "text/x-python",
   "name": "python",
   "nbconvert_exporter": "python",
   "pygments_lexer": "ipython2",
   "version": "2.7.13"
  }
 },
 "nbformat": 4,
 "nbformat_minor": 2
}
